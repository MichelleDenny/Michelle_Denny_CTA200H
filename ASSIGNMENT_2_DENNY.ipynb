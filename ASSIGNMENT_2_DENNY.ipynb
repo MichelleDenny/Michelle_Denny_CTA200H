{
 "cells": [
  {
   "cell_type": "markdown",
   "id": "772447c5",
   "metadata": {},
   "source": [
    "# ASSIGNMENT 2 \n",
    "\n",
    "### MICHELLE DENNY\n"
   ]
  },
  {
   "cell_type": "code",
   "execution_count": 3,
   "id": "80707de7",
   "metadata": {},
   "outputs": [],
   "source": [
    "import numpy as np  #importing the necessary libraries"
   ]
  },
  {
   "cell_type": "markdown",
   "id": "9e89f5bb",
   "metadata": {},
   "source": [
    "### Part 1"
   ]
  },
  {
   "cell_type": "code",
   "execution_count": 3,
   "id": "f66a0966",
   "metadata": {},
   "outputs": [
    {
     "data": {
      "text/plain": [
       "21"
      ]
     },
     "execution_count": 3,
     "metadata": {},
     "output_type": "execute_result"
    }
   ],
   "source": [
    "def f(x):\n",
    "    \n",
    "    \"\"\" This function is calculates a cubic polynomial in x\n",
    "\n",
    "    Parameters: x-----------array-like, indeterminate, usually integer values\n",
    "\n",
    "    Returns:\n",
    "\n",
    "    x^3 - x^2 - 1------array-like, cubic polynomials\n",
    "\n",
    "    \"\"\"\n",
    "    return x**3 - x**2 - 1\n",
    "\n",
    "\n",
    "def df(x):\n",
    "    \"\"\" This function is calculates a quadratic polynomial in x\n",
    "    this is the derivative of the above function, calculated by hand\n",
    "\n",
    "    Parameters: x-----------array-like, indeterminate, usually integer values\n",
    "\n",
    "    Returns:\n",
    "\n",
    "    3x^2 - 2x------array-like,  quadratic polynomial\n",
    "\n",
    "    \"\"\"\n",
    "    return 3*x**2 - 2*x\n",
    "\n",
    "\n",
    "df(3) #checking an example"
   ]
  },
  {
   "cell_type": "markdown",
   "id": "1db4253f",
   "metadata": {},
   "source": [
    "### Part 2"
   ]
  },
  {
   "cell_type": "code",
   "execution_count": 4,
   "id": "420a2b96",
   "metadata": {},
   "outputs": [],
   "source": [
    "def newton(f, df, x0, epsilon = 1e-6, max_iter =30):\n",
    "    \"\"\" This function calculates the newton-rapheson method to find the root of a given function using \n",
    "    its derivative and an initial guess. \n",
    "\n",
    "    Parameters: \n",
    "    f-----------function for which we are finding the root\n",
    "    df----------- function which is the derivative of f\n",
    "    x0-----------float, its the intial guess from which we start the approximations\n",
    "    epsilon-----------number to stop at when iterations become smaller than this\n",
    "    max_iter-----------max number of iterations that the fucnction performs\n",
    "\n",
    "    Returns:\n",
    "\n",
    "    float-- the function's root (approximately)\n",
    "\n",
    "    \"\"\"\n",
    "    iter = [] #check to see intermediate steps\n",
    "    for i in range(max_iter):  #for loop to iterate over all steps\n",
    "        \n",
    "        f_x0 = f(x0) #assigning variables to call functions easily\n",
    "        print(f\"Iteration {i}: x = {x0}, f(x) = {f_x0}\") \n",
    "        iter.append((x0,f_x0))\n",
    "\n",
    "        if abs(f_x0)< epsilon: #stops iterations if f(x0) is less than epsilon\n",
    "            print(f\"Found root in {i} iterations\")\n",
    "            return x0\n",
    "            \n",
    "        df_x0 = df(x0)\n",
    "        if df_x0 == 0: #if derivative is zero, test fails\n",
    "            print(f'Iteration failed, Reason: derivative is 0')\n",
    "            return None\n",
    "            \n",
    "        x1 = x0 - (f_x0/df_x0)      #Newton method formula  \n",
    "        if abs(x1 - x0)< epsilon: \n",
    "            print(f'Found root in {i+1} iterations') #success message\n",
    "            return x1   #returns root\n",
    "\n",
    "        x0 = x1  #assigning new root to start next iteration\n",
    "\n",
    "    print(\"Iteration failed, Reason: max iterations reached\") #stops iterations as max number is reached\n",
    "    return None"
   ]
  },
  {
   "cell_type": "code",
   "execution_count": 5,
   "id": "5506a434",
   "metadata": {},
   "outputs": [
    {
     "name": "stdout",
     "output_type": "stream",
     "text": [
      "Iteration 0: x = 1, f(x) = -1\n",
      "Iteration 1: x = 2.0, f(x) = 3.0\n",
      "Iteration 2: x = 1.625, f(x) = 0.650390625\n",
      "Iteration 3: x = 1.4857859531772575, f(x) = 0.07240158956588028\n",
      "Iteration 4: x = 1.4659559197359893, f(x) = 0.0013517398449036655\n",
      "Iteration 5: x = 1.4655713749070918, f(x) = 5.024018974175704e-07\n",
      "Found root in 5 iterations\n"
     ]
    },
    {
     "data": {
      "text/plain": [
       "1.4655713749070918"
      ]
     },
     "execution_count": 5,
     "metadata": {},
     "output_type": "execute_result"
    }
   ],
   "source": [
    "newton(f,df, x0=1, epsilon = 1e-6, max_iter =30)"
   ]
  },
  {
   "cell_type": "code",
   "execution_count": 6,
   "id": "213c1345",
   "metadata": {},
   "outputs": [
    {
     "name": "stdout",
     "output_type": "stream",
     "text": [
      "Iteration 0: x = 1.6, f(x) = 0.5360000000000005\n",
      "Iteration 1: x = 1.480357142857143, f(x) = 0.052682153106778706\n",
      "Iteration 2: x = 1.4657785191954165, f(x) = 0.0007282539926394271\n",
      "Iteration 3: x = 1.4655712734161694, f(x) = 1.4590942321035527e-07\n",
      "Found root in 3 iterations\n"
     ]
    },
    {
     "data": {
      "text/plain": [
       "1.4655712734161694"
      ]
     },
     "execution_count": 6,
     "metadata": {},
     "output_type": "execute_result"
    }
   ],
   "source": [
    "newton(f,df, x0=1.6, epsilon = 1e-6, max_iter =30)"
   ]
  },
  {
   "cell_type": "code",
   "execution_count": 7,
   "id": "795402e0",
   "metadata": {},
   "outputs": [
    {
     "name": "stdout",
     "output_type": "stream",
     "text": [
      "Iteration 0: x = 1.6, f(x) = 0.5360000000000005\n",
      "Iteration 1: x = 1.480357142857143, f(x) = 0.052682153106778706\n",
      "Iteration 2: x = 1.4657785191954165, f(x) = 0.0007282539926394271\n",
      "Iteration 3: x = 1.4655712734161694, f(x) = 1.4590942321035527e-07\n",
      "Iteration 4: x = 1.4655712318767697, f(x) = 6.217248937900877e-15\n",
      "Found root in 4 iterations\n"
     ]
    },
    {
     "data": {
      "text/plain": [
       "1.4655712318767697"
      ]
     },
     "execution_count": 7,
     "metadata": {},
     "output_type": "execute_result"
    }
   ],
   "source": [
    "newton(f,df, x0=1.6, epsilon = 1e-8, max_iter =30)"
   ]
  },
  {
   "cell_type": "code",
   "execution_count": 8,
   "id": "ae4281e1",
   "metadata": {},
   "outputs": [
    {
     "name": "stdout",
     "output_type": "stream",
     "text": [
      "Iteration 0: x = 1, f(x) = -1\n",
      "Iteration 1: x = 2.0, f(x) = 3.0\n",
      "Iteration 2: x = 1.625, f(x) = 0.650390625\n",
      "Iteration 3: x = 1.4857859531772575, f(x) = 0.07240158956588028\n",
      "Iteration 4: x = 1.4659559197359893, f(x) = 0.0013517398449036655\n",
      "Iteration 5: x = 1.4655713749070918, f(x) = 5.024018974175704e-07\n",
      "Iteration 6: x = 1.4655712318767877, f(x) = 6.927791673660977e-14\n",
      "Found root in 6 iterations\n"
     ]
    },
    {
     "data": {
      "text/plain": [
       "1.4655712318767877"
      ]
     },
     "execution_count": 8,
     "metadata": {},
     "output_type": "execute_result"
    }
   ],
   "source": [
    "newton(f,df, x0=1, epsilon = 1e-8, max_iter =30)"
   ]
  },
  {
   "cell_type": "markdown",
   "id": "129ce001",
   "metadata": {},
   "source": [
    "It takes more iterations to get to the root when epsilon is smaller."
   ]
  },
  {
   "cell_type": "code",
   "execution_count": null,
   "id": "8954865a",
   "metadata": {},
   "outputs": [],
   "source": []
  }
 ],
 "metadata": {
  "kernelspec": {
   "display_name": "Python 3 (ipykernel)",
   "language": "python",
   "name": "python3"
  },
  "language_info": {
   "codemirror_mode": {
    "name": "ipython",
    "version": 3
   },
   "file_extension": ".py",
   "mimetype": "text/x-python",
   "name": "python",
   "nbconvert_exporter": "python",
   "pygments_lexer": "ipython3",
   "version": "3.10.2"
  }
 },
 "nbformat": 4,
 "nbformat_minor": 5
}
